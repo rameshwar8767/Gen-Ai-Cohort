{
 "cells": [
  {
   "cell_type": "code",
   "execution_count": 3,
   "id": "8f3cd41f-3397-43be-af59-423506c0de08",
   "metadata": {},
   "outputs": [],
   "source": [
    "from langchain_community.llms import OpenAI\n",
    "from dotenv import load_dotenv\n",
    "import os\n"
   ]
  },
  {
   "cell_type": "code",
   "execution_count": 4,
   "id": "b032b94a-facd-4691-bce3-b26fc4e8bbdf",
   "metadata": {},
   "outputs": [
    {
     "data": {
      "text/plain": [
       "True"
      ]
     },
     "execution_count": 4,
     "metadata": {},
     "output_type": "execute_result"
    }
   ],
   "source": [
    "load_dotenv() "
   ]
  },
  {
   "cell_type": "code",
   "execution_count": 5,
   "id": "63d9788d-2158-43d2-aea6-2eff495a279a",
   "metadata": {},
   "outputs": [
    {
     "name": "stderr",
     "output_type": "stream",
     "text": [
      "C:\\Users\\Rameshwar\\AppData\\Local\\Temp\\ipykernel_17064\\1199160284.py:1: LangChainDeprecationWarning: The class `OpenAI` was deprecated in LangChain 0.0.10 and will be removed in 1.0. An updated version of the class exists in the :class:`~langchain-openai package and should be used instead. To use it run `pip install -U :class:`~langchain-openai` and import as `from :class:`~langchain_openai import OpenAI``.\n",
      "  llm = OpenAI(temperature=0.6, openai_api_key=os.getenv(\"OPENAI_API_KEY\"))\n"
     ]
    }
   ],
   "source": [
    "\n",
    "llm = OpenAI(temperature=0.6, openai_api_key=os.getenv(\"OPENAI_API_KEY\"))"
   ]
  },
  {
   "cell_type": "code",
   "execution_count": 8,
   "id": "ec163ac6-9d27-4157-aeda-9f342c3ecd73",
   "metadata": {},
   "outputs": [
    {
     "name": "stdout",
     "output_type": "stream",
     "text": [
      "\n",
      "\n",
      "1. Personalized Photo Album: Create a photo album with pictures of the two of you together and add in some special memories or inside jokes. This gift will show your crush that you value your time together and cherish your relationship.\n",
      "\n",
      "2. A Bouquet of Flowers: A classic gift that never fails to make someone feel special. Choose your crush's favorite flowers or a mix of different blooms to make it more personalized.\n",
      "\n",
      "3. Customized Jewelry: A piece of jewelry with their initials or a special date engraved on it can be a meaningful and thoughtful gift. It could be a necklace, bracelet, or even a keychain.\n",
      "\n",
      "4. Experience Gift: Plan a fun and unique experience for the two of you to enjoy together. It could be tickets to a concert or show, a cooking class, or a day at the spa. This gift will not only create new memories but also show that you want to spend quality time with your crush.\n",
      "\n",
      "5. Handmade Gift: Show off your creative side by making a handmade gift for your crush. It could be a painting, a knitted scarf, or a handwritten poem. This gift will be one-of-a-kind and show your crush how much effort and thought you put into it.\n",
      "\n",
      "6. A Book or Journal: If\n"
     ]
    }
   ],
   "source": [
    "llm = llm.invoke(\"I want to give a birthday gift to my crush. Suggest me one gift idea for this.\")\n",
    "print(llm)"
   ]
  },
  {
   "cell_type": "code",
   "execution_count": 11,
   "id": "5fa0a75f-3baa-4276-b889-e6ce6189ac79",
   "metadata": {},
   "outputs": [
    {
     "data": {
      "text/plain": [
       "'I want to give a birthday gift to my bestie. Suggest me one gift idea for this.'"
      ]
     },
     "execution_count": 11,
     "metadata": {},
     "output_type": "execute_result"
    }
   ],
   "source": [
    "from langchain.prompts import PromptTemplate\n",
    "\n",
    "prompt_template_name = PromptTemplate(\n",
    "    input_variables = ['relation'],\n",
    "    template = \"I want to give a birthday gift to my {relation}. Suggest me one gift idea for this.\" \n",
    ")\n",
    "\n",
    "prompt_template_name.format(relation=\"bestie\")"
   ]
  },
  {
   "cell_type": "code",
   "execution_count": 20,
   "id": "9ac3de92-171f-4881-8bc2-642a7a8ef8b0",
   "metadata": {},
   "outputs": [
    {
     "data": {
      "text/plain": [
       "\"\\n\\nOne gift idea for your bestie's birthday could be a personalized photo album or scrapbook. You could gather pictures and memories of your friendship and create a special and unique gift that they can cherish forever. You could also add in handwritten notes, ticket stubs, or other mementos to make it even more meaningful. This gift will show your bestie how much you appreciate and value your friendship.\""
      ]
     },
     "execution_count": 20,
     "metadata": {},
     "output_type": "execute_result"
    }
   ],
   "source": [
    "from langchain.chains import LLMChain,SequentialChain\n",
    "chain = LLMChain(llm=llm,prompt=prompt_template_name)\n",
    "chain.run(\"bestie\")"
   ]
  },
  {
   "cell_type": "code",
   "execution_count": 24,
   "id": "b0cbeada-3f0a-4e29-a223-368c6773506d",
   "metadata": {},
   "outputs": [
    {
     "name": "stdout",
     "output_type": "stream",
     "text": [
      "{'relation': 'crush', 'gift': \"\\n\\nOne gift idea for your crush's birthday could be a personalized gift basket. You could fill it with items that have special meaning to the two of you, such as their favorite snacks, a special book or movie, or a handwritten note. You could also include a small piece of jewelry, like a bracelet or necklace, with a meaningful charm or inscription. This gift shows thoughtfulness and allows you to express your feelings without being too over-the-top.\", 'cost': '\\n\\nThe cost range for this gift basket could be anywhere from 500 INR to 1500 INR, depending on the items included and their quality. It is important to stay within a reasonable budget and to focus more on the thought and sentiment behind the gift rather than the cost. '}\n"
     ]
    }
   ],
   "source": [
    "llm = OpenAI(temperature=0.6)\n",
    "\n",
    "gift_prompt = PromptTemplate(\n",
    "    input_variables=[\"relation\"],\n",
    "    template=\"I want to give a birthday gift to my {relation}. Suggest me one gift idea for this.\"\n",
    ")\n",
    "gift_chain = LLMChain(llm=llm, prompt=gift_prompt, output_key=\"gift\")\n",
    "\n",
    "cost_prompt = PromptTemplate(\n",
    "    input_variables=[\"gift\"],\n",
    "    template=\"The gift idea is: {gift}. Estimate a reasonable cost range for this gift in INR.\"\n",
    ")\n",
    "cost_chain = LLMChain(llm=llm, prompt=cost_prompt, output_key=\"cost\")\n",
    "\n",
    "\n",
    "overall_chain = SequentialChain(\n",
    "    chains=[gift_chain, cost_chain],\n",
    "    input_variables=[\"relation\"],\n",
    "    output_variables=[\"gift\", \"cost\"]\n",
    ")\n",
    "\n",
    "\n",
    "response = overall_chain.invoke({\"relation\": \"crush\"})\n",
    "print(response)"
   ]
  },
  {
   "cell_type": "code",
   "execution_count": null,
   "id": "05e891cd-8307-4deb-990a-2394c4462a58",
   "metadata": {},
   "outputs": [],
   "source": []
  }
 ],
 "metadata": {
  "kernelspec": {
   "display_name": "Python 3 (ipykernel)",
   "language": "python",
   "name": "python3"
  },
  "language_info": {
   "codemirror_mode": {
    "name": "ipython",
    "version": 3
   },
   "file_extension": ".py",
   "mimetype": "text/x-python",
   "name": "python",
   "nbconvert_exporter": "python",
   "pygments_lexer": "ipython3",
   "version": "3.11.7"
  }
 },
 "nbformat": 4,
 "nbformat_minor": 5
}
